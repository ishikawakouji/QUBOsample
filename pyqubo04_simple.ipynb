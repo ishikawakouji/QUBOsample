{
  "nbformat": 4,
  "nbformat_minor": 0,
  "metadata": {
    "colab": {
      "name": "pyqubo04_simple.ipynb",
      "version": "0.3.2",
      "provenance": [],
      "collapsed_sections": []
    }
  },
  "cells": [
    {
      "metadata": {
        "id": "IPUqRLRoHInb",
        "colab_type": "text"
      },
      "cell_type": "markdown",
      "source": [
        "Install PyQUBO.\n",
        "\n",
        "まず PyQUBOをイストール"
      ]
    },
    {
      "metadata": {
        "id": "GOpWVKdYHLUi",
        "colab_type": "code",
        "colab": {}
      },
      "cell_type": "code",
      "source": [
        "!pip install -q pyqubo"
      ],
      "execution_count": 0,
      "outputs": []
    },
    {
      "metadata": {
        "id": "5IfCETi9HcGx",
        "colab_type": "text"
      },
      "cell_type": "markdown",
      "source": [
        "import PyQUBO\n",
        "\n",
        "必要なものをインポート"
      ]
    },
    {
      "metadata": {
        "id": "-ZWONxFUHOzJ",
        "colab_type": "code",
        "colab": {}
      },
      "cell_type": "code",
      "source": [
        "from pyqubo import Param, Qbit, solve_qubo"
      ],
      "execution_count": 0,
      "outputs": []
    },
    {
      "metadata": {
        "id": "NxfG511c9d2f",
        "colab_type": "text"
      },
      "cell_type": "markdown",
      "source": [
        "Array and vector multiplying functions.\n",
        "\n",
        "ベタだけど、行列との計算"
      ]
    },
    {
      "metadata": {
        "id": "a5R4FmYmHkAQ",
        "colab_type": "code",
        "colab": {}
      },
      "cell_type": "code",
      "source": [
        "def mul_arr2d(a, b):\n",
        "  res = [[0,0],[0,0]]\n",
        "  res[0][0] = a[0][0] * b[0][0] + a[0][1] * b[1][0]\n",
        "  res[0][1] = a[0][0] * b[0][1] + a[0][1] * b[1][1]\n",
        "  res[1][0] = a[1][0] * b[0][0] + a[1][1] * b[1][0]\n",
        "  res[1][1] = a[1][0] * b[0][1] + a[1][1] * b[1][1]\n",
        "  return res\n",
        "\n",
        "def mul_arr2dvec(a, v):\n",
        "  res = [0, 0]\n",
        "  res[0] = a[0][0] * v[0] + a[0][1] * v[1]\n",
        "  res[1] = a[1][0] * v[0] + a[1][1] * v[1]\n",
        "  return res\n",
        "\n",
        "def dot_vec(a, b):\n",
        "  res = a[0] * b[0] + a[1] * b[1]\n",
        "  return res"
      ],
      "execution_count": 0,
      "outputs": []
    },
    {
      "metadata": {
        "id": "WrsTlqHU9iMj",
        "colab_type": "text"
      },
      "cell_type": "markdown",
      "source": [
        "rewrite Mx = y to M(Av) = y. Solve array A and vector v.\n",
        "\n",
        "Mx = y を M(Av) =  y と書き換えて、Aとv を求める感じにする。"
      ]
    },
    {
      "metadata": {
        "id": "TBH4CU6LJmQo",
        "colab_type": "code",
        "colab": {}
      },
      "cell_type": "code",
      "source": [
        "# Param array M\n",
        "m1 = Param('m1')\n",
        "m2 = Param('m2')\n",
        "m3 = Param('m3')\n",
        "m4 = Param('m4')\n",
        "M = [[m1, m2], [m3, m4]]\n",
        "\n",
        "# Qbit array A、like rotation array\n",
        "a1 = Qbit('a11') + 0.5*Qbit('a12') + 0.25*Qbit('a13') + 0.125*Qbit('a14')\n",
        "a2 = Qbit('a21') + 0.5*Qbit('a22') + 0.25*Qbit('a23') + 0.125*Qbit('a24')\n",
        "\n",
        "A = [[a1, a2], [-a2, a1]]\n",
        "\n",
        "# Qbit vec\n",
        "v1 = Qbit('v11') + 0.5*Qbit('v12') + 0.25*Qbit('v13') + 0.125*Qbit('v14')\n",
        "v2 = Qbit('v21') + 0.5*Qbit('v22') + 0.25*Qbit('v23') + 0.125*Qbit('v24')\n",
        "v = [v1, v2]\n",
        "\n",
        "# Param vec y\n",
        "y = [Param('y1'), Param('y2')]"
      ],
      "execution_count": 0,
      "outputs": []
    },
    {
      "metadata": {
        "id": "1c0IsTpuKbcq",
        "colab_type": "code",
        "colab": {}
      },
      "cell_type": "code",
      "source": [
        "MA = mul_arr2d(M, A)\n",
        "MAv = mul_arr2dvec(MA, v)"
      ],
      "execution_count": 0,
      "outputs": []
    },
    {
      "metadata": {
        "id": "NRgo1PvX9uGd",
        "colab_type": "text"
      },
      "cell_type": "markdown",
      "source": [
        "MAv and y are parallel, Av and x are parallel, too.\n",
        "It means maximize dot product MAv and y.\n",
        "\n",
        "MAv と y が平行なら、Av と x も平行になるはずという理屈にする。\n",
        "平行を表現するために、内積を利用し、符号を逆向きにして、できるだけ小さくするという方向へ持っていく。"
      ]
    },
    {
      "metadata": {
        "id": "D307J5KtLAUq",
        "colab_type": "code",
        "colab": {}
      },
      "cell_type": "code",
      "source": [
        "H = -dot_vec(MAv, y)"
      ],
      "execution_count": 0,
      "outputs": []
    },
    {
      "metadata": {
        "id": "vcxzeYTdLHPT",
        "colab_type": "code",
        "colab": {}
      },
      "cell_type": "code",
      "source": [
        "model = H.compile()"
      ],
      "execution_count": 0,
      "outputs": []
    },
    {
      "metadata": {
        "id": "7UIEjud7LJxS",
        "colab_type": "code",
        "colab": {}
      },
      "cell_type": "code",
      "source": [
        "#params = {'m1':1.0, 'm2':2.0, 'm3':3.0, 'm4':4.0, 'y1':5.0, 'y2':11.0} # x = [1, 2]\n",
        "params = {'m1':-1.0, 'm2':4.0, 'm3':7.0, 'm4':2.0, 'y1':-9.0, 'y2':33.0} # x = [5, -1]"
      ],
      "execution_count": 0,
      "outputs": []
    },
    {
      "metadata": {
        "id": "W8shlLrdMnZT",
        "colab_type": "code",
        "colab": {}
      },
      "cell_type": "code",
      "source": [
        "qubo, offset = model.to_qubo(params=params)"
      ],
      "execution_count": 0,
      "outputs": []
    },
    {
      "metadata": {
        "id": "KDnr4t84MqrE",
        "colab_type": "code",
        "colab": {}
      },
      "cell_type": "code",
      "source": [
        "sol = solve_qubo(qubo)"
      ],
      "execution_count": 0,
      "outputs": []
    },
    {
      "metadata": {
        "id": "BKiQgqpeMwGr",
        "colab_type": "code",
        "colab": {
          "base_uri": "https://localhost:8080/",
          "height": 35
        },
        "outputId": "398e3ef6-31e6-4c39-b1ae-a9f34ebd35d9"
      },
      "cell_type": "code",
      "source": [
        "solution, broken, energy = model.decode_solution(sol, vartype=\"BINARY\", params=params)\n",
        "print(\"number of broken constarint = {}\".format(len(broken)))"
      ],
      "execution_count": 24,
      "outputs": [
        {
          "output_type": "stream",
          "text": [
            "number of broken constarint = 0\n"
          ],
          "name": "stdout"
        }
      ]
    },
    {
      "metadata": {
        "id": "eL8ONoZrM11c",
        "colab_type": "code",
        "colab": {
          "base_uri": "https://localhost:8080/",
          "height": 55
        },
        "outputId": "c7151250-68db-403e-f72a-e1c46e9fb8c2"
      },
      "cell_type": "code",
      "source": [
        "print(solution)"
      ],
      "execution_count": 25,
      "outputs": [
        {
          "output_type": "stream",
          "text": [
            "{'v23': 1, 'a21': 1, 'v21': 1, 'a23': 1, 'a11': 1, 'a13': 1, 'v24': 1, 'v12': 1, 'v13': 1, 'v11': 1, 'a22': 1, 'v22': 1, 'v14': 1, 'a12': 1, 'a24': 1, 'a14': 1}\n"
          ],
          "name": "stdout"
        }
      ]
    },
    {
      "metadata": {
        "id": "SGOnpd7E848X",
        "colab_type": "text"
      },
      "cell_type": "markdown",
      "source": [
        "Av will be x.\n",
        "\n",
        "Avで欲しい x が見えるはず"
      ]
    },
    {
      "metadata": {
        "id": "gGC_uEjRM6X1",
        "colab_type": "code",
        "colab": {
          "base_uri": "https://localhost:8080/",
          "height": 71
        },
        "outputId": "cbd2cdfc-8bcb-49f3-e8cf-fdb5d4bb2048"
      },
      "cell_type": "code",
      "source": [
        "ra1 = 1.0*solution['a11'] + 0.5*solution['a12'] + 0.25*solution['a13'] + 0.125*solution['a14']\n",
        "ra2 = 1.0*solution['a21'] + 0.5*solution['a22'] + 0.25*solution['a23'] + 0.125*solution['a24']\n",
        "ra = [[0.875,ra2],[-ra2,0.875]]\n",
        "print(ra)\n",
        "\n",
        "rv1 = 1.0*solution['v11'] + 0.5*solution['v12'] + 0.25*solution['v13'] + 0.125*solution['v14']\n",
        "rv2 = 1.0*solution['v21'] + 0.5*solution['v22'] + 0.25*solution['v23'] + 0.125*solution['v24']\n",
        "rv = [rv1, rv2]\n",
        "print(rv)\n",
        "\n",
        "av = mul_arr2dvec(ra, rv)\n",
        "print(av)"
      ],
      "execution_count": 26,
      "outputs": [
        {
          "output_type": "stream",
          "text": [
            "[[0.875, 1.875], [-1.875, 0.875]]\n",
            "[1.875, 1.875]\n",
            "[5.15625, -1.875]\n"
          ],
          "name": "stdout"
        }
      ]
    },
    {
      "metadata": {
        "id": "gBYMDKSY9DzJ",
        "colab_type": "text"
      },
      "cell_type": "markdown",
      "source": [
        "Real x is [5,1]. not bad.\n",
        "This is a rough way, then it is OK.\n",
        "\n",
        "まぁ、近い。他のものを試すとそれほど近くないものもあるが、やり方が粗いので、まぁ、そんなものか。"
      ]
    },
    {
      "metadata": {
        "id": "a9k0CrbL9VHj",
        "colab_type": "text"
      },
      "cell_type": "markdown",
      "source": [
        "And chek MAv.\n",
        "\n",
        "最後に Mx (=MAv) を求めてみる。"
      ]
    },
    {
      "metadata": {
        "id": "OqNqQyKCNfYz",
        "colab_type": "code",
        "colab": {
          "base_uri": "https://localhost:8080/",
          "height": 35
        },
        "outputId": "97cfc24f-97b6-4a0d-8fe6-845c35cdc391"
      },
      "cell_type": "code",
      "source": [
        "m = [[params['m1'],params['m2']],[params['m3'],params['m4']]]\n",
        "val = mul_arr2dvec(m, av)\n",
        "print(val)"
      ],
      "execution_count": 27,
      "outputs": [
        {
          "output_type": "stream",
          "text": [
            "[-12.65625, 32.34375]\n"
          ],
          "name": "stdout"
        }
      ]
    },
    {
      "metadata": {
        "id": "XTujbqQkLCeC",
        "colab_type": "code",
        "colab": {}
      },
      "cell_type": "code",
      "source": [
        ""
      ],
      "execution_count": 0,
      "outputs": []
    }
  ]
}